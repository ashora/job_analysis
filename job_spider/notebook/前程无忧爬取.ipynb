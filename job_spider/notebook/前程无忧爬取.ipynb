{
 "cells": [
  {
   "cell_type": "code",
   "execution_count": 1,
   "metadata": {},
   "outputs": [],
   "source": [
    "import requests\n",
    "from lxml import html\n",
    "import re\n",
    "import redis\n",
    "from urllib import parse\n",
    "import time\n",
    "import random\n",
    "import json\n",
    "import pymongo"
   ]
  },
  {
   "cell_type": "code",
   "execution_count": 2,
   "metadata": {},
   "outputs": [],
   "source": [
    "redis_client = redis.Redis(host=\"li.goldlone.cn\", port=6379, db=0)"
   ]
  },
  {
   "cell_type": "code",
   "execution_count": 3,
   "metadata": {},
   "outputs": [],
   "source": [
    "# mongo_client = pymongo.MongoClient(host='li.goldlone.cn',port=27017)"
   ]
  },
  {
   "cell_type": "code",
   "execution_count": 4,
   "metadata": {},
   "outputs": [],
   "source": [
    "# mongo_db = mongo_client[\"jobs\"]\n",
    "# mongo_col_qiancheng = mongo_db[\"qiancheng\"]"
   ]
  },
  {
   "cell_type": "code",
   "execution_count": 4,
   "metadata": {},
   "outputs": [],
   "source": [
    "# url = \"https://jobs.51job.com/beijing-cyq/101450454.html?s=01&t=0\"\n",
    "# r = requests.get(url, headers=headers)"
   ]
  },
  {
   "cell_type": "code",
   "execution_count": 2,
   "metadata": {},
   "outputs": [],
   "source": [
    "key = '大数据'\n",
    "\n",
    "redis_url_ok_key = \"jobs:qiancheng51_url_ok\"\n",
    "redis_url_need_key = \"jobs:qiancheng51_url_need\"\n",
    "\n",
    "headers = {\n",
    "    'Host': 'search.51job.com',\n",
    "    'Upgrade-Insecure-Requests': '1',\n",
    "    'User-Agent': 'Mozilla/5.0 (Windows NT 10.0; Win64; x64) AppleWebKit/537.36 (KHTML, like Gecko) Chrome/71.0.3578.98 Safari/537.36'\n",
    "}"
   ]
  },
  {
   "cell_type": "code",
   "execution_count": 6,
   "metadata": {},
   "outputs": [],
   "source": [
    "def get_links(keywords, page):\n",
    "    '''\n",
    "    获取查询页的所有链接\n",
    "    '''\n",
    "    key = parse.quote(parse.quote(keywords))\n",
    "    url = 'http://search.51job.com/list/000000,000000,0000,00,9,99,' + key + ',2,' + str(page) + '.html'\n",
    "\n",
    "    try:\n",
    "        r = requests.get(url, headers=headers, timeout=10)\n",
    "        s = requests.session()\n",
    "        s.keep_alive = False\n",
    "        r.encoding = 'gbk'\n",
    "        reg = re.compile(r'class=\"t1 \">.*? <a target=\"_blank\" title=\".*?\" href=\"(.*?)\".*? <span class=\"t2\">', re.S)\n",
    "        links = re.findall(reg, r.text)\n",
    "    except Exception as e:\n",
    "        print(e)\n",
    "        return get_links(page)\n",
    "\n",
    "    return links"
   ]
  },
  {
   "cell_type": "code",
   "execution_count": 7,
   "metadata": {},
   "outputs": [],
   "source": [
    "links = get_links(\"大数据\", 1)"
   ]
  },
  {
   "cell_type": "code",
   "execution_count": 10,
   "metadata": {},
   "outputs": [],
   "source": [
    "def get_content(link):\n",
    "    '''\n",
    "    获取详情页的具体信息\n",
    "    '''\n",
    "    sub_link = link[0 : link.index(\"?\")]\n",
    "    if not redis_client.sismember(redis_url_ok_key, sub_link):\n",
    "        r = requests.get(sub_link, headers=headers, timeout=10)\n",
    "        s = requests.session()\n",
    "        s.keep_alive = False\n",
    "        r.encoding = 'gbk'\n",
    "\n",
    "        t = html.fromstring(r.text)\n",
    "        try:\n",
    "            # 过滤无效字符\n",
    "            pattern = re.compile(r'[\\r|\\t|\\n|\\xa0]')\n",
    "\n",
    "            # 岗位名称\n",
    "            title = t.xpath(\"/html/body/div[3]/div[2]/div[2]/div/div[1]/h1/@title\")[0]\n",
    "            # 月薪\n",
    "            salary = t.xpath(\"/html/body/div[3]/div[2]/div[2]/div/div[1]/strong/text()\")[0]\n",
    "\n",
    "            # 关键词\n",
    "            keywords = t.xpath(\"/html/body/div[3]/div[2]/div[2]/div/div[1]/p[2]/text()\")\n",
    "#             address = re.sub(pattern, \"\", keywords[0])\n",
    "#             experience = re.sub(pattern, \"\", keywords[1])\n",
    "#             education = re.sub(pattern, \"\", keywords[2])\n",
    "#             num = re.sub(pattern, \"\", keywords[3])\n",
    "#             date = re.sub(pattern, \"\", keywords[4])\n",
    "            keywords = re.sub(pattern, \"\", \",\".join(keywords))\n",
    "\n",
    "            # 岗位特色\n",
    "            features = t.xpath(\"/html/body/div[3]/div[2]/div[2]/div/div[1]/div/div/span/text()\")\n",
    "            features = \",\".join(features)\n",
    "\n",
    "            # 岗位描述\n",
    "            description = t.xpath(\"/html/body/div[3]/div[2]/div[3]/div[1]/div/p/text()\")\n",
    "            description = \" \".join(description)\n",
    "\n",
    "            # 公司名称\n",
    "            company_name = t.xpath(\"/html/body/div[3]/div[2]/div[4]/div[1]/div[1]/a/p/@title\")[0]\n",
    "            # 公司信息\n",
    "            company_infos = t.xpath(\"/html/body/div[3]/div[2]/div[4]/div[1]/div[2]/p/@title\")\n",
    "            # 公司类型\n",
    "            company_type = company_infos[0]\n",
    "            # 公司规模\n",
    "            company_scala = company_infos[1]\n",
    "            # 公司所处行业\n",
    "            company_trade = company_infos[2]\n",
    "            # 公司描述\n",
    "            company_description = t.xpath(\"/html/body/div[3]/div[2]/div[3]/div[3]/div/text()\")\n",
    "            company_description = re.sub(pattern, \"\", \" \".join(company_description))\n",
    "\n",
    "            info = {\n",
    "#                 \"address\": address,\n",
    "#                 \"experience\": experience,\n",
    "#                 \"education\": education,\n",
    "#                 \"num\": num,\n",
    "#                 \"date\": date,\n",
    "                \"title\": title,\n",
    "                \"salary\": salary,\n",
    "                \"keywords\": keywords,\n",
    "                \"features\": features,\n",
    "                \"description\": description,\n",
    "                \"company_name\": company_name,\n",
    "                \"company_type\": company_type,\n",
    "                \"company_scala\": company_scala,\n",
    "                \"company_trade\": company_trade,\n",
    "                \"company_description\": company_description,\n",
    "                \"url\": sub_link\n",
    "            }\n",
    "\n",
    "            # 存储到文件\n",
    "            with open(\"./qiancheng51.txt\", 'a+', encoding='utf-8') as file:\n",
    "                file.write(json.dumps(info, ensure_ascii=False) + '\\n')\n",
    "            # /html/body/div[3]/div[2]/div[4]/div[2]/div[2]/div[1]/a[1]\n",
    "            \n",
    "            # 存储到MongoDB\n",
    "#             mongo_col_qiancheng.insert_one(info)\n",
    "            \n",
    "            # 保存相似岗位的链接\n",
    "            similar_job_urls = t.xpath(\"/html/body/div[3]/div[2]/div[4]/div[2]/div[2]/div/a[1]/@href\")\n",
    "            for link in similar_job_urls:\n",
    "                redis_client.lpush(redis_url_need_key, link)\n",
    "\n",
    "        except Exception as e:\n",
    "            print(\"解析或存储异常<{}>: \".format(sub_link), e)\n",
    "            return False\n",
    "        \n",
    "        redis_client.sadd(redis_url_ok_key, sub_link)\n",
    "        print(\"success crawl url: \", sub_link)\n",
    "        return True\n",
    "    else:\n",
    "        print(\"重复URL<{}>\".format(sub_link))\n",
    "        return False"
   ]
  },
  {
   "cell_type": "code",
   "execution_count": 9,
   "metadata": {},
   "outputs": [],
   "source": [
    "url = \"https://jobs.51job.com/beijing-cyq/101450454.html?s=01&t=0\"\n",
    "r = requests.get(url, headers=headers)"
   ]
  },
  {
   "cell_type": "code",
   "execution_count": 16,
   "metadata": {},
   "outputs": [
    {
     "data": {
      "text/plain": [
       "['https://jobs.51job.com/beijing-hdq/107589625.html?t=2&s=01',\n",
       " 'https://jobs.51job.com/beijing-hdq/108008724.html?t=2&s=01',\n",
       " 'https://jobs.51job.com/beijing-hdq/95876778.html?t=2&s=01',\n",
       " 'https://jobs.51job.com/beijing-cyq/100133804.html?t=2&s=01',\n",
       " 'https://jobs.51job.com/beijing/105340991.html?t=2&s=01',\n",
       " 'https://jobs.51job.com/beijing/89414954.html?t=2&s=01',\n",
       " 'https://jobs.51job.com/beijing-hdq/108363076.html?t=2&s=01',\n",
       " 'https://jobs.51job.com/beijing-cyq/106184397.html?t=2&s=01',\n",
       " 'https://jobs.51job.com/beijing-cyq/106767791.html?t=2&s=01',\n",
       " 'https://jobs.51job.com/beijing-dcq/95363288.html?t=2&s=01']"
      ]
     },
     "execution_count": 16,
     "metadata": {},
     "output_type": "execute_result"
    }
   ],
   "source": [
    "t = html.fromstring(r.text)\n",
    "similar_job_urls = t.xpath(\"/html/body/div[3]/div[2]/div[4]/div[2]/div[2]/div/a[1]/@href\")\n",
    "# pattern = re.compile(r'[\\r|\\t|\\n|\\xa0]')\n",
    "# re.sub(pattern, \"\", \",\".join(keywords))\n",
    "similar_job_urls"
   ]
  },
  {
   "cell_type": "code",
   "execution_count": 157,
   "metadata": {},
   "outputs": [],
   "source": [
    "for link in links:\n",
    "    redis_client.lpush(redis_url_need_key, link)\n",
    "#     get_content(link)\n",
    "#     time.sleep(random.randint(5, 10))\n",
    "#     break"
   ]
  },
  {
   "cell_type": "code",
   "execution_count": 14,
   "metadata": {},
   "outputs": [
    {
     "name": "stdout",
     "output_type": "stream",
     "text": [
      "success crawl url:  https://jobs.51job.com/guangzhou/101930305.html\n"
     ]
    },
    {
     "data": {
      "text/plain": [
       "True"
      ]
     },
     "execution_count": 14,
     "metadata": {},
     "output_type": "execute_result"
    }
   ],
   "source": [
    "# 从待爬取队列中拉\n",
    "# while True:\n",
    "link_data = redis_client.brpop(redis_url_need_key)\n",
    "link = link_data[1].decode()\n",
    "\n",
    "get_content(link)"
   ]
  },
  {
   "cell_type": "code",
   "execution_count": 152,
   "metadata": {},
   "outputs": [
    {
     "data": {
      "text/plain": [
       "['https://jobs.51job.com/shanghai/108326727.html?s=01&t=0',\n",
       " 'https://jobs.51job.com/shanghai-pdxq/80446141.html?s=01&t=0',\n",
       " 'https://jobs.51job.com/wuhan-dhxjs/109546711.html?s=01&t=0',\n",
       " 'https://jobs.51job.com/shenzhen-nsq/109544219.html?s=01&t=0',\n",
       " 'https://jobs.51job.com/chengdu-gxq/109076054.html?s=01&t=0',\n",
       " 'https://jobs.51job.com/shanghai-ypq/108832468.html?s=01&t=0',\n",
       " 'https://jobs.51job.com/shanghai-pdxq/109539342.html?s=01&t=0',\n",
       " 'https://jobs.51job.com/guangzhou-pyq/109538256.html?s=01&t=0',\n",
       " 'https://jobs.51job.com/qingdao-hdq/109536026.html?s=01&t=0',\n",
       " 'https://jobs.51job.com/hangzhou-xhq/109535680.html?s=01&t=0',\n",
       " 'https://jobs.51job.com/beijing-hdq/109534652.html?s=01&t=0',\n",
       " 'https://jobs.51job.com/chengdu/109534106.html?s=01&t=0',\n",
       " 'https://jobs.51job.com/changsha/109533698.html?s=01&t=0',\n",
       " 'https://jobs.51job.com/beijing-hdq/109532073.html?s=01&t=0',\n",
       " 'https://jobs.51job.com/shanghai-jaq/109531101.html?s=01&t=0',\n",
       " 'https://jobs.51job.com/zhenjiang/109530596.html?s=01&t=0',\n",
       " 'https://jobs.51job.com/shanghai-bsq/109528846.html?s=01&t=0',\n",
       " 'https://jobs.51job.com/hangzhou-xhq/109526600.html?s=01&t=0',\n",
       " 'https://jobs.51job.com/beijing/109525820.html?s=01&t=0',\n",
       " 'https://jobs.51job.com/beijing-hdq/109525656.html?s=01&t=0',\n",
       " 'https://jobs.51job.com/shanghai-ptq/109524828.html?s=01&t=0',\n",
       " 'https://jobs.51job.com/chongqing-yzq/109522280.html?s=01&t=0',\n",
       " 'https://jobs.51job.com/beijing-cyq/109521156.html?s=01&t=0',\n",
       " 'https://jobs.51job.com/shanghai-xhq/109497277.html?s=01&t=0',\n",
       " 'https://jobs.51job.com/zhengzhou-gxq/109247159.html?s=01&t=0',\n",
       " 'https://jobs.51job.com/yingtan/109213299.html?s=01&t=0',\n",
       " 'https://jobs.51job.com/beijing-cpq/108853966.html?s=01&t=0',\n",
       " 'https://jobs.51job.com/shenzhen-ftq/108672940.html?s=01&t=0',\n",
       " 'https://jobs.51job.com/zhengzhou/108075247.html?s=01&t=0',\n",
       " 'https://jobs.51job.com/sanya/107104842.html?s=01&t=0',\n",
       " 'https://jobs.51job.com/nanjing/106074525.html?s=01&t=0',\n",
       " 'https://jobs.51job.com/guangzhou-thq/105845127.html?s=01&t=0',\n",
       " 'https://jobs.51job.com/changsha/105491765.html?s=01&t=0',\n",
       " 'https://jobs.51job.com/qingdao/104459787.html?s=01&t=0',\n",
       " 'https://jobs.51job.com/shenzhen-ftq/104114173.html?s=01&t=0',\n",
       " 'https://jobs.51job.com/jinan-lxq/102931201.html?s=01&t=0',\n",
       " 'https://jobs.51job.com/shenzhen/101826475.html?s=01&t=0',\n",
       " 'https://jobs.51job.com/beijing-cyq/101450454.html?s=01&t=0',\n",
       " 'https://jobs.51job.com/shenzhen-ftq/100976822.html?s=01&t=0',\n",
       " 'https://jobs.51job.com/shanghai-xhq/97498737.html?s=01&t=0',\n",
       " 'https://jobs.51job.com/shanghai-sjq/95433704.html?s=01&t=0',\n",
       " 'https://jobs.51job.com/shanghai-pdxq/93372867.html?s=01&t=0',\n",
       " 'https://jobs.51job.com/shenzhen-nsq/91976157.html?s=01&t=0',\n",
       " 'https://jobs.51job.com/shanghai-pdxq/91413141.html?s=01&t=0',\n",
       " 'https://jobs.51job.com/shanghai-jaq/70845951.html?s=01&t=0',\n",
       " 'https://jobs.51job.com/beijing/109514989.html?s=01&t=0',\n",
       " 'https://jobs.51job.com/beijing-hdq/109165272.html?s=01&t=0']"
      ]
     },
     "execution_count": 152,
     "metadata": {},
     "output_type": "execute_result"
    }
   ],
   "source": [
    "links"
   ]
  },
  {
   "cell_type": "code",
   "execution_count": 3,
   "metadata": {},
   "outputs": [],
   "source": [
    "url = \"https://jobs.51job.com/shenzhen-ftq/108815735.html\"\n",
    "r = requests.get(url, headers=headers, timeout=10)\n",
    "t = html.fromstring(r.text)"
   ]
  },
  {
   "cell_type": "code",
   "execution_count": 11,
   "metadata": {},
   "outputs": [
    {
     "data": {
      "text/plain": [
       "<Element html at 0x1cd71f1ea98>"
      ]
     },
     "execution_count": 11,
     "metadata": {},
     "output_type": "execute_result"
    }
   ],
   "source": [
    "t.xpath(\"/html/body/div[3]/div[2]/div[2]/div/div[1]/strong/text()\")"
   ]
  }
 ],
 "metadata": {
  "kernelspec": {
   "display_name": "Python 3",
   "language": "python",
   "name": "python3"
  },
  "language_info": {
   "codemirror_mode": {
    "name": "ipython",
    "version": 3
   },
   "file_extension": ".py",
   "mimetype": "text/x-python",
   "name": "python",
   "nbconvert_exporter": "python",
   "pygments_lexer": "ipython3",
   "version": "3.6.5rc1"
  }
 },
 "nbformat": 4,
 "nbformat_minor": 2
}
