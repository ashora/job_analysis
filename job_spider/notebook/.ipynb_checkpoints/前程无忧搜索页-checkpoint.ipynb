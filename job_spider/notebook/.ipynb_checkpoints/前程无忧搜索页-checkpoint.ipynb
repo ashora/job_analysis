{
 "cells": [
  {
   "cell_type": "code",
   "execution_count": 1,
   "metadata": {},
   "outputs": [],
   "source": [
    "import requests\n",
    "from lxml import html\n",
    "import re\n",
    "import redis\n",
    "from urllib import parse\n",
    "import time\n",
    "import random\n",
    "import logging"
   ]
  },
  {
   "cell_type": "code",
   "execution_count": 2,
   "metadata": {},
   "outputs": [],
   "source": [
    "redis_client = redis.Redis(host=\"li.goldlone.cn\", port=6379, db=0)\n",
    "\n",
    "# 待爬取的URL\n",
    "redis_url_need_key = \"jobs:qiancheng51_url_need\"\n",
    "\n",
    "headers = {\n",
    "    'Host': 'search.51job.com',\n",
    "    'Upgrade-Insecure-Requests': '1',\n",
    "    'User-Agent': 'Mozilla/5.0 (Windows NT 10.0; Win64; x64) AppleWebKit/537.36 (KHTML, like Gecko) Chrome/71.0.3578.98 Safari/537.36'\n",
    "}"
   ]
  },
  {
   "cell_type": "code",
   "execution_count": 3,
   "metadata": {},
   "outputs": [],
   "source": [
    "logging.basicConfig(level=logging.INFO)"
   ]
  },
  {
   "cell_type": "code",
   "execution_count": 6,
   "metadata": {},
   "outputs": [],
   "source": [
    "def get_links(keyword, page):\n",
    "    '''\n",
    "    获取查询页的所有链接\n",
    "    '''\n",
    "    key = parse.quote(parse.quote(keyword))\n",
    "    url = 'http://search.51job.com/list/000000,000000,0000,00,9,99,' + key + ',2,' + str(page) + '.html'\n",
    "\n",
    "    try:\n",
    "        r = MyRequests.get(url, headers=headers, timeout=10)\n",
    "        # s = requests.session()\n",
    "        # s.keep_alive = False\n",
    "        r.encoding = 'gbk'\n",
    "        reg = re.compile(r'class=\"t1 \">.*? <a target=\"_blank\" title=\".*?\" href=\"(.*?)\".*? <span class=\"t2\">', re.S)\n",
    "        links_tmp = re.findall(reg, r.text)\n",
    "        return links_tmp\n",
    "    except Exception as e:\n",
    "        logging.exception(e)\n",
    "        return get_links(keyword, page)"
   ]
  },
  {
   "cell_type": "code",
   "execution_count": null,
   "metadata": {},
   "outputs": [],
   "source": [
    "def get_search_pages(keyword, page=1):\n",
    "    '''\n",
    "    获取搜索页面的信息，并经所有的URL存入redis\n",
    "    '''\n",
    "    if page"
   ]
  },
  {
   "cell_type": "code",
   "execution_count": null,
   "metadata": {},
   "outputs": [],
   "source": [
    "# keywords = [\"大数据\", \"前端\", \"后端\", \"Java\", \"php\", \"python\", \"h5\", \"算法\", \"项目经理\"]\n",
    "\n",
    "links = get_links(\"大数据\", 1)\n",
    "for link in links:\n",
    "    print(link)\n",
    "    redis_client.lpush(redis_url_need_key, link)"
   ]
  },
  {
   "cell_type": "code",
   "execution_count": 4,
   "metadata": {},
   "outputs": [],
   "source": [
    "keyword = \"大数据\"\n",
    "page = 1\n",
    "key = parse.quote(parse.quote(keyword))\n",
    "url = 'http://search.51job.com/list/000000,000000,0000,00,9,99,' + key + ',2,' + str(page) + '.html'\n",
    "r = requests.get(url, headers=headers, timeout=10)\n",
    "r.encoding = 'gbk'"
   ]
  },
  {
   "cell_type": "code",
   "execution_count": 5,
   "metadata": {},
   "outputs": [],
   "source": [
    "t = html.fromstring(r.text)"
   ]
  },
  {
   "cell_type": "code",
   "execution_count": 12,
   "metadata": {},
   "outputs": [
    {
     "data": {
      "text/plain": [
       "[<Element li at 0x14d4ed62958>, <Element li at 0x14d4ed2bc28>]"
      ]
     },
     "execution_count": 12,
     "metadata": {},
     "output_type": "execute_result"
    }
   ],
   "source": [
    "page_btns = t.xpath('//*[@id=\"resultList\"]/div[55]/div/div/div/ul/li[@class=\"bk\"]')\n",
    "page_btns"
   ]
  },
  {
   "cell_type": "code",
   "execution_count": 15,
   "metadata": {},
   "outputs": [
    {
     "name": "stdout",
     "output_type": "stream",
     "text": [
      "[]\n"
     ]
    }
   ],
   "source": [
    "if len(page_btns) == 2:\n",
    "    print(page_btns[1].xpath(\"text\"))\n",
    "# elif len(page_btns) == 1:\n",
    "#     if page_btns[0]"
   ]
  },
  {
   "cell_type": "code",
   "execution_count": 6,
   "metadata": {},
   "outputs": [],
   "source": [
    "page_btns = t.xpath('//*[@id=\"resultList\"]/div[@class=\"dw_page\"]/div/div/div/ul/li[@class=\"bk\"]/a')"
   ]
  },
  {
   "cell_type": "code",
   "execution_count": 12,
   "metadata": {},
   "outputs": [
    {
     "data": {
      "text/plain": [
       "'https://search.51job.com/list/000000,000000,0000,00,9,99,%25E5%25A4%25A7%25E6%2595%25B0%25E6%258D%25AE,2,2.html?lang=c&stype=1&postchannel=0000&workyear=99&cotype=99&degreefrom=99&jobterm=99&companysize=99&lonlat=0%2C0&radius=-1&ord_field=0&confirmdate=9&fromType=&dibiaoid=0&address=&line=&specialarea=00&from=&welfare='"
      ]
     },
     "execution_count": 12,
     "metadata": {},
     "output_type": "execute_result"
    }
   ],
   "source": [
    "page_btns[0].attrib[\"href\"]"
   ]
  },
  {
   "cell_type": "code",
   "execution_count": 13,
   "metadata": {},
   "outputs": [],
   "source": [
    "import re"
   ]
  },
  {
   "cell_type": "code",
   "execution_count": 17,
   "metadata": {},
   "outputs": [
    {
     "data": {
      "text/plain": [
       "False"
      ]
     },
     "execution_count": 17,
     "metadata": {},
     "output_type": "execute_result"
    }
   ],
   "source": [
    "r = re.compile(\"https://jobs.51job.com/.*\")\n",
    "# s = \"http://creditease.51job.com/sc/show_job_detail.php\"\n",
    "s = \"https://jobs.51job.com/beijing/98882906.html\"\n",
    "re.match(r, s) == None"
   ]
  }
 ],
 "metadata": {
  "kernelspec": {
   "display_name": "Python 3",
   "language": "python",
   "name": "python3"
  },
  "language_info": {
   "codemirror_mode": {
    "name": "ipython",
    "version": 3
   },
   "file_extension": ".py",
   "mimetype": "text/x-python",
   "name": "python",
   "nbconvert_exporter": "python",
   "pygments_lexer": "ipython3",
   "version": "3.6.5rc1"
  }
 },
 "nbformat": 4,
 "nbformat_minor": 2
}
